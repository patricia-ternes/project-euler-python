{
 "cells": [
  {
   "cell_type": "markdown",
   "metadata": {},
   "source": [
    "# 8: Largest Product in a Series\n",
    "\n",
    "The four adjacent digits in the 1000-digit number that have the greatest product are $9\\times 9\\times 8\\times 9\\times = 5832$.\n",
    "\n",
    "$$\n",
    "73167176531330624919225119674426574742355349194934\\\\\n",
    "96983520312774506326239578318016984801869478851843\\\\\n",
    "85861560789112949495459501737958331952853208805511\\\\\n",
    "12540698747158523863050715693290963295227443043557\\\\\n",
    "66896648950445244523161731856403098711121722383113\\\\\n",
    "62229893423380308135336276614282806444486645238749\\\\\n",
    "30358907296290491560440772390713810515859307960866\\\\\n",
    "70172427121883998797908792274921901699720888093776\\\\\n",
    "65727333001053367881220235421809751254540594752243\\\\\n",
    "52584907711670556013604839586446706324415722155397\\\\\n",
    "53697817977846174064955149290862569321978468622482\\\\\n",
    "83972241375657056057490261407972968652414535100474\\\\\n",
    "82166370484403199890008895243450658541227588666881\\\\\n",
    "16427171479924442928230863465674813919123162824586\\\\\n",
    "17866458359124566529476545682848912883142607690042\\\\\n",
    "24219022671055626321111109370544217506941658960408\\\\\n",
    "07198403850962455444362981230987879927244284909188\\\\\n",
    "84580156166097919133875499200524063689912560717606\\\\\n",
    "05886116467109405077541002256983155200055935729725\\\\\n",
    "71636269561882670428252483600823257530420752963450\n",
    "$$\n",
    "\n",
    "Find the thirteen adjacent digits in the 1000-digit number that have the greatest product.\n",
    "What is the value of this product?\n",
    "\n",
    "[Submit your answer](https://projecteuler.net/problem=8)"
   ]
  },
  {
   "cell_type": "code",
   "execution_count": 34,
   "metadata": {
    "tags": [
     "remove-cell"
    ]
   },
   "outputs": [],
   "source": [
    "# unit test example\n",
    "# it is a hidden cell\n",
    "import unittest\n",
    "\n",
    "class UnitTests(unittest.TestCase):\n",
    "    def setUp(self):\n",
    "        self.L = 7316717653133062491922511967442657474235534919493496983520312774506326239578318016984801869478851843858615607891129494954595017379583319528532088055111254069874715852386305071569329096329522744304355766896648950445244523161731856403098711121722383113622298934233803081353362766142828064444866452387493035890729629049156044077239071381051585930796086670172427121883998797908792274921901699720888093776657273330010533678812202354218097512545405947522435258490771167055601360483958644670632441572215539753697817977846174064955149290862569321978468622482839722413756570560574902614079729686524145351004748216637048440319989000889524345065854122758866688116427171479924442928230863465674813919123162824586178664583591245665294765456828489128831426076900422421902267105562632111110937054421750694165896040807198403850962455444362981230987879927244284909188845801561660979191338754992005240636899125607176060588611646710940507754100225698315520005593572972571636269561882670428252483600823257530420752963450 \n",
    "\n",
    "    def test_type(self):\n",
    "        self.assertTrue(isinstance(problem8(self.L, 13), int), \"The result should be an integer number\")\n",
    "    def test_result1(self):\n",
    "        self.assertEqual(problem8(self.L, 4), 5832, \"The result should be 5832\")\n",
    "    def test_result2(self):\n",
    "        self.assertEqual(problem8(self.L, 13), 23514624000, \"The result should be 23514624000\")"
   ]
  },
  {
   "cell_type": "markdown",
   "metadata": {},
   "source": [
    "## Your Solution\n",
    "\n",
    "Lunch this notebook and try to create your own solution!\n",
    "\n",
    "Tip: look for the launch button (🚀) in the top right corner!"
   ]
  },
  {
   "cell_type": "code",
   "execution_count": null,
   "metadata": {
    "tags": [
     "remove-output"
    ]
   },
   "outputs": [],
   "source": [
    "def problem8(L, N):  # L = long number, N = number of adjacent digits\n",
    "    # Try your solution here\n",
    "    return solution\n",
    "\n",
    "# Testing:\n",
    "unittest.main(argv=[''], verbosity=2,exit=False)\n",
    "\n",
    "# Printing Project Euler Solution\n",
    "# print(problem8(13))"
   ]
  },
  {
   "cell_type": "markdown",
   "metadata": {},
   "source": [
    "## My solution\n",
    "\n",
    ":::{admonition} Spoiler Alert!!\n",
    ":class: warning\n",
    "See my solution bellow\n",
    ":::"
   ]
  },
  {
   "cell_type": "code",
   "execution_count": 24,
   "metadata": {},
   "outputs": [],
   "source": [
    "long_digit = 7316717653133062491922511967442657474235534919493496983520312774506326239578318016984801869478851843858615607891129494954595017379583319528532088055111254069874715852386305071569329096329522744304355766896648950445244523161731856403098711121722383113622298934233803081353362766142828064444866452387493035890729629049156044077239071381051585930796086670172427121883998797908792274921901699720888093776657273330010533678812202354218097512545405947522435258490771167055601360483958644670632441572215539753697817977846174064955149290862569321978468622482839722413756570560574902614079729686524145351004748216637048440319989000889524345065854122758866688116427171479924442928230863465674813919123162824586178664583591245665294765456828489128831426076900422421902267105562632111110937054421750694165896040807198403850962455444362981230987879927244284909188845801561660979191338754992005240636899125607176060588611646710940507754100225698315520005593572972571636269561882670428252483600823257530420752963450"
   ]
  },
  {
   "cell_type": "code",
   "execution_count": 35,
   "metadata": {
    "tags": [
     "remove-output"
    ]
   },
   "outputs": [
    {
     "name": "stderr",
     "output_type": "stream",
     "text": [
      "test_result1 (__main__.UnitTests.test_result1) ... ok\n",
      "test_result2 (__main__.UnitTests.test_result2) ... ok\n",
      "test_type (__main__.UnitTests.test_type) ... ok\n",
      "\n",
      "----------------------------------------------------------------------\n",
      "Ran 3 tests in 0.004s\n",
      "\n",
      "OK\n"
     ]
    },
    {
     "data": {
      "text/plain": [
       "<unittest.main.TestProgram at 0x7f86b65f2750>"
      ]
     },
     "execution_count": 35,
     "metadata": {},
     "output_type": "execute_result"
    }
   ],
   "source": [
    "def problem8(L, N):  # L = long number, N = number of adjacent digits\n",
    "    long_string = str(L)\n",
    "    greatest = 0\n",
    "    M = len(long_string) - N + 1\n",
    "    for i in range(M):\n",
    "        # get a chunk of the number\n",
    "        short = long_string[i:i+N]\n",
    "\n",
    "        # calculate the product\n",
    "        product = 1\n",
    "        for n in short:\n",
    "            product *= int(n)\n",
    "\n",
    "        # keep the largest value\n",
    "        greatest = max(product, greatest)\n",
    "\n",
    "    return greatest\n",
    "\n",
    "# Testing\n",
    "unittest.main(argv=[''], verbosity=2,exit=False)"
   ]
  },
  {
   "cell_type": "markdown",
   "metadata": {},
   "source": [
    "Add main question:"
   ]
  },
  {
   "cell_type": "code",
   "execution_count": 33,
   "metadata": {},
   "outputs": [
    {
     "data": {
      "text/plain": [
       "23514624000"
      ]
     },
     "execution_count": 33,
     "metadata": {},
     "output_type": "execute_result"
    }
   ],
   "source": [
    "# Printing Project Euler Solution\n",
    "problem8(long_digit, 13)"
   ]
  }
 ],
 "metadata": {
  "kernelspec": {
   "display_name": "Python 3.11.3 ('grasi')",
   "language": "python",
   "name": "python3"
  },
  "language_info": {
   "codemirror_mode": {
    "name": "ipython",
    "version": 3
   },
   "file_extension": ".py",
   "mimetype": "text/x-python",
   "name": "python",
   "nbconvert_exporter": "python",
   "pygments_lexer": "ipython3",
   "version": "3.11.3"
  },
  "orig_nbformat": 4,
  "vscode": {
   "interpreter": {
    "hash": "fd9cff0ccad1a21f92cfc9f7e89f6d5789d853b25a73be61ccb36672be4262e1"
   }
  }
 },
 "nbformat": 4,
 "nbformat_minor": 2
}
