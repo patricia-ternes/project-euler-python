{
 "cells": [
  {
   "cell_type": "markdown",
   "metadata": {},
   "source": [
    "# Number: title\n",
    "\n",
    "Description\n",
    "\n",
    "[Submit your answer](https://projecteuler.net/problem=XXX) <!-- Change XXX by the problem number -->"
   ]
  },
  {
   "cell_type": "code",
   "execution_count": 1,
   "metadata": {
    "tags": [
     "remove-cell"
    ]
   },
   "outputs": [],
   "source": [
    "# unit test example\n",
    "# it is a hidden cell\n",
    "import unittest\n",
    "\n",
    "class UnitTests(unittest.TestCase):\n",
    "\n",
    "    def test_type(self):\n",
    "        self.assertTrue(isinstance(problem1(10), int), \"The result should be an integer number\")\n",
    "    def test_result1(self):\n",
    "        self.assertEqual(problem1(10), 23, \"The result should be 23\")\n",
    "    def test_result2(self):\n",
    "        self.assertEqual(problem1(100), 2318, \"The result should be 2319\")"
   ]
  },
  {
   "cell_type": "markdown",
   "metadata": {},
   "source": [
    "## Your Solution\n",
    "\n",
    "Lunch this notebook and try to create your own solution!\n",
    "\n",
    "Tip: look for the launch button (🚀) in the top right corner!"
   ]
  },
  {
   "cell_type": "code",
   "execution_count": 2,
   "metadata": {
    "tags": [
     "remove-output"
    ]
   },
   "outputs": [
    {
     "name": "stderr",
     "output_type": "stream",
     "text": [
      "test_result1 (__main__.UnitTests.test_result1) ... ERROR\n",
      "test_result2 (__main__.UnitTests.test_result2) ... ERROR\n",
      "test_type (__main__.UnitTests.test_type) ... ERROR\n",
      "\n",
      "======================================================================\n",
      "ERROR: test_result1 (__main__.UnitTests.test_result1)\n",
      "----------------------------------------------------------------------\n",
      "Traceback (most recent call last):\n",
      "  File \"/tmp/ipykernel_54659/1928044350.py\", line 10, in test_result1\n",
      "    self.assertEqual(problem1(10), 23, \"The result should be 23\")\n",
      "                     ^^^^^^^^\n",
      "NameError: name 'problem1' is not defined\n",
      "\n",
      "======================================================================\n",
      "ERROR: test_result2 (__main__.UnitTests.test_result2)\n",
      "----------------------------------------------------------------------\n",
      "Traceback (most recent call last):\n",
      "  File \"/tmp/ipykernel_54659/1928044350.py\", line 12, in test_result2\n",
      "    self.assertEqual(problem1(100), 2318, \"The result should be 2319\")\n",
      "                     ^^^^^^^^\n",
      "NameError: name 'problem1' is not defined\n",
      "\n",
      "======================================================================\n",
      "ERROR: test_type (__main__.UnitTests.test_type)\n",
      "----------------------------------------------------------------------\n",
      "Traceback (most recent call last):\n",
      "  File \"/tmp/ipykernel_54659/1928044350.py\", line 8, in test_type\n",
      "    self.assertTrue(isinstance(problem1(10), int), \"The result should be an integer number\")\n",
      "                               ^^^^^^^^\n",
      "NameError: name 'problem1' is not defined\n",
      "\n",
      "----------------------------------------------------------------------\n",
      "Ran 3 tests in 0.003s\n",
      "\n",
      "FAILED (errors=3)\n"
     ]
    },
    {
     "data": {
      "text/plain": [
       "<unittest.main.TestProgram at 0x7f81e45ca810>"
      ]
     },
     "execution_count": 2,
     "metadata": {},
     "output_type": "execute_result"
    }
   ],
   "source": [
    "def problemXXX(): # Change XXX by the problem number\n",
    "    # Try your solution here\n",
    "    return solution\n",
    "\n",
    "# Testing:\n",
    "unittest.main(argv=[''], verbosity=2,exit=False)"
   ]
  },
  {
   "cell_type": "markdown",
   "metadata": {},
   "source": [
    "## My solution\n",
    "\n",
    ":::{admonition} Spoiler Alert!!\n",
    ":class: warning\n",
    "See my solution bellow\n",
    ":::"
   ]
  },
  {
   "cell_type": "code",
   "execution_count": 3,
   "metadata": {
    "tags": [
     "hide-input",
     "remove-output"
    ]
   },
   "outputs": [
    {
     "name": "stderr",
     "output_type": "stream",
     "text": [
      "test_result1 (__main__.UnitTests.test_result1) ... ERROR\n",
      "test_result2 (__main__.UnitTests.test_result2) ... ERROR\n",
      "test_type (__main__.UnitTests.test_type) ... ERROR\n",
      "\n",
      "======================================================================\n",
      "ERROR: test_result1 (__main__.UnitTests.test_result1)\n",
      "----------------------------------------------------------------------\n",
      "Traceback (most recent call last):\n",
      "  File \"/tmp/ipykernel_54659/1928044350.py\", line 10, in test_result1\n",
      "    self.assertEqual(problem1(10), 23, \"The result should be 23\")\n",
      "                     ^^^^^^^^\n",
      "NameError: name 'problem1' is not defined\n",
      "\n",
      "======================================================================\n",
      "ERROR: test_result2 (__main__.UnitTests.test_result2)\n",
      "----------------------------------------------------------------------\n",
      "Traceback (most recent call last):\n",
      "  File \"/tmp/ipykernel_54659/1928044350.py\", line 12, in test_result2\n",
      "    self.assertEqual(problem1(100), 2318, \"The result should be 2319\")\n",
      "                     ^^^^^^^^\n",
      "NameError: name 'problem1' is not defined\n",
      "\n",
      "======================================================================\n",
      "ERROR: test_type (__main__.UnitTests.test_type)\n",
      "----------------------------------------------------------------------\n",
      "Traceback (most recent call last):\n",
      "  File \"/tmp/ipykernel_54659/1928044350.py\", line 8, in test_type\n",
      "    self.assertTrue(isinstance(problem1(10), int), \"The result should be an integer number\")\n",
      "                               ^^^^^^^^\n",
      "NameError: name 'problem1' is not defined\n",
      "\n",
      "----------------------------------------------------------------------\n",
      "Ran 3 tests in 0.003s\n",
      "\n",
      "FAILED (errors=3)\n"
     ]
    },
    {
     "data": {
      "text/plain": [
       "<unittest.main.TestProgram at 0x7f81e45d2090>"
      ]
     },
     "execution_count": 3,
     "metadata": {},
     "output_type": "execute_result"
    }
   ],
   "source": [
    "def problemXXX(): # Change XXX by the problem number\n",
    "    # Add my solution here\n",
    "    return solution\n",
    "\n",
    "unittest.main(argv=[''], verbosity=2,exit=False)"
   ]
  },
  {
   "cell_type": "markdown",
   "metadata": {},
   "source": [
    "The sum of all the multiples of 3 or 5 below 1000 is:"
   ]
  },
  {
   "cell_type": "code",
   "execution_count": 4,
   "metadata": {},
   "outputs": [],
   "source": [
    "# Print the solution bellow"
   ]
  }
 ],
 "metadata": {
  "kernelspec": {
   "display_name": "Python 3.11.3 ('grasi')",
   "language": "python",
   "name": "python3"
  },
  "language_info": {
   "codemirror_mode": {
    "name": "ipython",
    "version": 3
   },
   "file_extension": ".py",
   "mimetype": "text/x-python",
   "name": "python",
   "nbconvert_exporter": "python",
   "pygments_lexer": "ipython3",
   "version": "3.11.3"
  },
  "orig_nbformat": 4,
  "vscode": {
   "interpreter": {
    "hash": "fd9cff0ccad1a21f92cfc9f7e89f6d5789d853b25a73be61ccb36672be4262e1"
   }
  }
 },
 "nbformat": 4,
 "nbformat_minor": 2
}
