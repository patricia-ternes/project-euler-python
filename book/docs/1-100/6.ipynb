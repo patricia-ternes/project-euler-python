{
 "cells": [
  {
   "cell_type": "markdown",
   "metadata": {},
   "source": [
    "# 6: Sum square difference\n",
    "\n",
    "The sum of the squares of the first ten natural numbers is,\n",
    "\n",
    "$$ 1^2 + 2^2 + ... + 10^2 = 385 $$\n",
    "\n",
    "The square of the sum of the first ten natural numbers is,\n",
    "\n",
    "$$ (1+2+...+10)^2 = 55^2 = 3025 $$\n",
    "\n",
    "Hence the difference between the sum of the squares of the first ten natural numbers and the square of the sum is $3025-385$.\n",
    "\n",
    "Find the difference between the sum of the squares of the first one hundred natural numbers and the square of the sum.\n",
    "\n",
    "[Submit your answer](https://projecteuler.net/problem=6)"
   ]
  },
  {
   "cell_type": "code",
   "execution_count": 1,
   "metadata": {
    "tags": [
     "remove-cell"
    ]
   },
   "outputs": [],
   "source": [
    "# unit test example\n",
    "# it is a hidden cell\n",
    "import unittest\n",
    "\n",
    "class UnitTests(unittest.TestCase):\n",
    "\n",
    "    def test_type(self):\n",
    "        self.assertTrue(isinstance(problem6(10), int), \"The result should be an integer number\")\n",
    "    def test_result1(self):\n",
    "        self.assertEqual(problem6(10), 2640, \"The result should be 2640\")\n",
    "    def test_result2(self):\n",
    "        self.assertEqual(problem6(100), 25164150, \"The result should be 25164150\")"
   ]
  },
  {
   "cell_type": "markdown",
   "metadata": {},
   "source": [
    "## Your Solution\n",
    "\n",
    "Lunch this notebook and try to create your own solution!\n",
    "\n",
    "Tip: look for the launch button (🚀) in the top right corner!"
   ]
  },
  {
   "cell_type": "code",
   "execution_count": 3,
   "metadata": {
    "tags": [
     "remove-output"
    ]
   },
   "outputs": [
    {
     "name": "stderr",
     "output_type": "stream",
     "text": [
      "test_result1 (__main__.UnitTests.test_result1) ... ERROR\n",
      "test_result2 (__main__.UnitTests.test_result2) ... ERROR\n",
      "test_type (__main__.UnitTests.test_type) ... ERROR\n",
      "\n",
      "======================================================================\n",
      "ERROR: test_result1 (__main__.UnitTests.test_result1)\n",
      "----------------------------------------------------------------------\n",
      "Traceback (most recent call last):\n",
      "  File \"/tmp/ipykernel_99466/1510194646.py\", line 10, in test_result1\n",
      "    self.assertEqual(problem6(10), 2640, \"The result should be 2640\")\n",
      "                     ^^^^^^^^^^^^\n",
      "  File \"/tmp/ipykernel_99466/1535835614.py\", line 3, in problem6\n",
      "    return solution\n",
      "           ^^^^^^^^\n",
      "NameError: name 'solution' is not defined\n",
      "\n",
      "======================================================================\n",
      "ERROR: test_result2 (__main__.UnitTests.test_result2)\n",
      "----------------------------------------------------------------------\n",
      "Traceback (most recent call last):\n",
      "  File \"/tmp/ipykernel_99466/1510194646.py\", line 12, in test_result2\n",
      "    self.assertEqual(problem6(100), 25164150, \"The result should be 25164150\")\n",
      "                     ^^^^^^^^^^^^^\n",
      "  File \"/tmp/ipykernel_99466/1535835614.py\", line 3, in problem6\n",
      "    return solution\n",
      "           ^^^^^^^^\n",
      "NameError: name 'solution' is not defined\n",
      "\n",
      "======================================================================\n",
      "ERROR: test_type (__main__.UnitTests.test_type)\n",
      "----------------------------------------------------------------------\n",
      "Traceback (most recent call last):\n",
      "  File \"/tmp/ipykernel_99466/1510194646.py\", line 8, in test_type\n",
      "    self.assertTrue(isinstance(problem6(10), int), \"The result should be an integer number\")\n",
      "                               ^^^^^^^^^^^^\n",
      "  File \"/tmp/ipykernel_99466/1535835614.py\", line 3, in problem6\n",
      "    return solution\n",
      "           ^^^^^^^^\n",
      "NameError: name 'solution' is not defined\n",
      "\n",
      "----------------------------------------------------------------------\n",
      "Ran 3 tests in 0.001s\n",
      "\n",
      "FAILED (errors=3)\n"
     ]
    },
    {
     "data": {
      "text/plain": [
       "<unittest.main.TestProgram at 0x7fccd5dc6b50>"
      ]
     },
     "execution_count": 3,
     "metadata": {},
     "output_type": "execute_result"
    }
   ],
   "source": [
    "def problem6(N):  # N=number of numbers\n",
    "    # Try your solution here\n",
    "    return solution\n",
    "\n",
    "# Testing:\n",
    "unittest.main(argv=[''], verbosity=2,exit=False)\n",
    "\n",
    "# Printing Project Euler Solution\n",
    "# print(problem6(100))"
   ]
  },
  {
   "cell_type": "markdown",
   "metadata": {},
   "source": [
    "## My solution\n",
    "\n",
    ":::{admonition} Spoiler Alert!!\n",
    ":class: warning\n",
    "See my solution bellow\n",
    ":::"
   ]
  },
  {
   "cell_type": "markdown",
   "metadata": {},
   "source": [
    "Using list comprehension:"
   ]
  },
  {
   "cell_type": "code",
   "execution_count": 4,
   "metadata": {
    "tags": [
     "hide-input",
     "remove-output"
    ]
   },
   "outputs": [
    {
     "name": "stderr",
     "output_type": "stream",
     "text": [
      "test_result1 (__main__.UnitTests.test_result1) ... ok\n",
      "test_result2 (__main__.UnitTests.test_result2) ... ok\n",
      "test_type (__main__.UnitTests.test_type) ... ok\n",
      "\n",
      "----------------------------------------------------------------------\n",
      "Ran 3 tests in 0.001s\n",
      "\n",
      "OK\n"
     ]
    },
    {
     "data": {
      "text/plain": [
       "<unittest.main.TestProgram at 0x7fccd5ddb0d0>"
      ]
     },
     "execution_count": 4,
     "metadata": {},
     "output_type": "execute_result"
    }
   ],
   "source": [
    "def problem6(N):\n",
    "    sq_sum = sum([i**2 for i in range(N+1)])\n",
    "    sum_sq = sum([i for i in range(N+1)])**2\n",
    "    return sum_sq - sq_sum\n",
    "\n",
    "# Testing\n",
    "unittest.main(argv=[''], verbosity=2,exit=False)"
   ]
  },
  {
   "cell_type": "code",
   "execution_count": 5,
   "metadata": {},
   "outputs": [
    {
     "name": "stdout",
     "output_type": "stream",
     "text": [
      "8.94 s ± 250 ms per loop (mean ± std. dev. of 7 runs, 1 loop each)\n"
     ]
    }
   ],
   "source": [
    "# Performance of first solution:\n",
    "%timeit problem6(100000000)"
   ]
  },
  {
   "cell_type": "markdown",
   "metadata": {},
   "source": [
    "In the solution above I used 2 list comprehension over the same interval, so a faster solution\n",
    "is perform both operations in just one loop: "
   ]
  },
  {
   "cell_type": "code",
   "execution_count": 6,
   "metadata": {
    "tags": [
     "hide-input",
     "remove-output"
    ]
   },
   "outputs": [
    {
     "name": "stderr",
     "output_type": "stream",
     "text": [
      "test_result1 (__main__.UnitTests.test_result1) ... ok\n",
      "test_result2 (__main__.UnitTests.test_result2) ... ok\n",
      "test_type (__main__.UnitTests.test_type) ... ok\n",
      "\n",
      "----------------------------------------------------------------------\n",
      "Ran 3 tests in 0.001s\n",
      "\n",
      "OK\n"
     ]
    },
    {
     "data": {
      "text/plain": [
       "<unittest.main.TestProgram at 0x7fccd5ddbc50>"
      ]
     },
     "execution_count": 6,
     "metadata": {},
     "output_type": "execute_result"
    }
   ],
   "source": [
    "def problem6(N):\n",
    "    sq_sum = 0\n",
    "    sum_sq = 0\n",
    "    for i in range(N+1):\n",
    "        sq_sum += i*i\n",
    "        sum_sq += i\n",
    "    return sum_sq*sum_sq - sq_sum\n",
    "\n",
    "# Testing\n",
    "unittest.main(argv=[''], verbosity=2,exit=False)"
   ]
  },
  {
   "cell_type": "code",
   "execution_count": 7,
   "metadata": {},
   "outputs": [
    {
     "name": "stdout",
     "output_type": "stream",
     "text": [
      "5.14 s ± 198 ms per loop (mean ± std. dev. of 7 runs, 1 loop each)\n"
     ]
    }
   ],
   "source": [
    "# Performance of second solution\n",
    "%timeit problem6(100000000)"
   ]
  },
  {
   "cell_type": "markdown",
   "metadata": {},
   "source": [
    "Finally, instead using loops, we could use some math knowledge. For instance,\n",
    "the [sum of natural terms series can be written as](https://en.wikipedia.org/wiki/1_%2B_2_%2B_3_%2B_4_%2B_%E2%8B%AF):\n",
    "\n",
    "$$\\sum_{k=1}^N k = \\frac{N(N+1)}{2}$$\n",
    "\n",
    "and, [the sum of squared natural numbers is](https://en.wikipedia.org/wiki/Square_pyramidal_number):\n",
    "\n",
    "$$\\sum_{k=1}^N k^2 = \\frac{N(N+1)(2N+1)}{6}$$"
   ]
  },
  {
   "cell_type": "code",
   "execution_count": 11,
   "metadata": {
    "tags": [
     "hide-input",
     "remove-output"
    ]
   },
   "outputs": [
    {
     "name": "stderr",
     "output_type": "stream",
     "text": [
      "test_result1 (__main__.UnitTests.test_result1) ... ok\n",
      "test_result2 (__main__.UnitTests.test_result2) ... ok\n",
      "test_type (__main__.UnitTests.test_type) ... ok\n",
      "\n",
      "----------------------------------------------------------------------\n",
      "Ran 3 tests in 0.002s\n",
      "\n",
      "OK\n"
     ]
    },
    {
     "data": {
      "text/plain": [
       "<unittest.main.TestProgram at 0x7fccd5de0a90>"
      ]
     },
     "execution_count": 11,
     "metadata": {},
     "output_type": "execute_result"
    }
   ],
   "source": [
    "def problem6(N):\n",
    "    sum_sq = N*(N+1)*N*(N+1)/4\n",
    "    sq_sum = N*(N+1)*(2*N+1)/6\n",
    "\n",
    "    return int(sum_sq - sq_sum)\n",
    "\n",
    "# Testing\n",
    "unittest.main(argv=[''], verbosity=2,exit=False)"
   ]
  },
  {
   "cell_type": "code",
   "execution_count": 12,
   "metadata": {},
   "outputs": [
    {
     "name": "stdout",
     "output_type": "stream",
     "text": [
      "321 ns ± 2.98 ns per loop (mean ± std. dev. of 7 runs, 1,000,000 loops each)\n"
     ]
    }
   ],
   "source": [
    "# Performance of third solution\n",
    "%timeit problem6(100000000)"
   ]
  },
  {
   "cell_type": "markdown",
   "metadata": {},
   "source": [
    "The difference between the sum of the squares of the first one hundred natural numbers and the square of the sum is:"
   ]
  },
  {
   "cell_type": "code",
   "execution_count": 10,
   "metadata": {},
   "outputs": [
    {
     "data": {
      "text/plain": [
       "25164150"
      ]
     },
     "execution_count": 10,
     "metadata": {},
     "output_type": "execute_result"
    }
   ],
   "source": [
    "# Printing Project Euler Solution\n",
    "problem6(100)"
   ]
  }
 ],
 "metadata": {
  "kernelspec": {
   "display_name": "Python 3.11.3 ('grasi')",
   "language": "python",
   "name": "python3"
  },
  "language_info": {
   "codemirror_mode": {
    "name": "ipython",
    "version": 3
   },
   "file_extension": ".py",
   "mimetype": "text/x-python",
   "name": "python",
   "nbconvert_exporter": "python",
   "pygments_lexer": "ipython3",
   "version": "3.11.3"
  },
  "orig_nbformat": 4,
  "vscode": {
   "interpreter": {
    "hash": "fd9cff0ccad1a21f92cfc9f7e89f6d5789d853b25a73be61ccb36672be4262e1"
   }
  }
 },
 "nbformat": 4,
 "nbformat_minor": 2
}
