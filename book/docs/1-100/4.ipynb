{
 "cells": [
  {
   "cell_type": "markdown",
   "metadata": {},
   "source": [
    "# 4: Largest palindrome product\n",
    "\n",
    "Description\n",
    "\n",
    "A palindromic number reads the same both ways. The largest palindrome made from the product of two 2-digit numbers is 9009 = 91 × 99.\n",
    "\n",
    "Find the largest palindrome made from the product of two 3-digit numbers.\n",
    "\n",
    "[Submit your answer](https://projecteuler.net/problem=4)"
   ]
  },
  {
   "cell_type": "code",
   "execution_count": 1,
   "metadata": {
    "tags": [
     "remove-cell"
    ]
   },
   "outputs": [],
   "source": [
    "# unit test example\n",
    "# it is a hidden cell\n",
    "import unittest\n",
    "\n",
    "class UnitTests(unittest.TestCase):\n",
    "\n",
    "    def test_type(self):\n",
    "        self.assertTrue(isinstance(problem4(1), int), \"The result should be an integer number\")\n",
    "    def test_result1(self):\n",
    "        self.assertEqual(problem4(2), 9009, \"The result should be 9090\")\n",
    "    def test_result2(self):\n",
    "        self.assertEqual(problem4(3), 906609, \"The result should be 906609\")"
   ]
  },
  {
   "cell_type": "markdown",
   "metadata": {},
   "source": [
    "## Your Solution\n",
    "\n",
    "Lunch this notebook and try to create your own solution!\n",
    "\n",
    "Tip: look for the launch button (🚀) in the top right corner!"
   ]
  },
  {
   "cell_type": "code",
   "execution_count": 2,
   "metadata": {
    "tags": [
     "remove-output"
    ]
   },
   "outputs": [
    {
     "name": "stderr",
     "output_type": "stream",
     "text": [
      "test_result1 (__main__.UnitTests.test_result1) ... ERROR\n",
      "test_result2 (__main__.UnitTests.test_result2) ... ERROR\n",
      "test_type (__main__.UnitTests.test_type) ... ERROR\n",
      "\n",
      "======================================================================\n",
      "ERROR: test_result1 (__main__.UnitTests.test_result1)\n",
      "----------------------------------------------------------------------\n",
      "Traceback (most recent call last):\n",
      "  File \"/tmp/ipykernel_133502/1879045632.py\", line 10, in test_result1\n",
      "    self.assertEqual(problem4(2), 9009, \"The result should be 9090\")\n",
      "                     ^^^^^^^^^^^\n",
      "  File \"/tmp/ipykernel_133502/925034460.py\", line 3, in problem4\n",
      "    return solution\n",
      "           ^^^^^^^^\n",
      "NameError: name 'solution' is not defined\n",
      "\n",
      "======================================================================\n",
      "ERROR: test_result2 (__main__.UnitTests.test_result2)\n",
      "----------------------------------------------------------------------\n",
      "Traceback (most recent call last):\n",
      "  File \"/tmp/ipykernel_133502/1879045632.py\", line 12, in test_result2\n",
      "    self.assertEqual(problem4(3), 906609, \"The result should be 906609\")\n",
      "                     ^^^^^^^^^^^\n",
      "  File \"/tmp/ipykernel_133502/925034460.py\", line 3, in problem4\n",
      "    return solution\n",
      "           ^^^^^^^^\n",
      "NameError: name 'solution' is not defined\n",
      "\n",
      "======================================================================\n",
      "ERROR: test_type (__main__.UnitTests.test_type)\n",
      "----------------------------------------------------------------------\n",
      "Traceback (most recent call last):\n",
      "  File \"/tmp/ipykernel_133502/1879045632.py\", line 8, in test_type\n",
      "    self.assertTrue(isinstance(problem4(1), int), \"The result should be an integer number\")\n",
      "                               ^^^^^^^^^^^\n",
      "  File \"/tmp/ipykernel_133502/925034460.py\", line 3, in problem4\n",
      "    return solution\n",
      "           ^^^^^^^^\n",
      "NameError: name 'solution' is not defined\n",
      "\n",
      "----------------------------------------------------------------------\n",
      "Ran 3 tests in 0.002s\n",
      "\n",
      "FAILED (errors=3)\n"
     ]
    },
    {
     "data": {
      "text/plain": [
       "<unittest.main.TestProgram at 0x7fca2c4a3150>"
      ]
     },
     "execution_count": 2,
     "metadata": {},
     "output_type": "execute_result"
    }
   ],
   "source": [
    "def problem4(N): # N = number of digits\n",
    "    # Try your solution here\n",
    "    return solution\n",
    "\n",
    "# Testing:\n",
    "unittest.main(argv=[''], verbosity=2,exit=False)\n",
    "\n",
    "# Printing Project Euler Solution\n",
    "# print(problem4(YYY))"
   ]
  },
  {
   "cell_type": "markdown",
   "metadata": {},
   "source": [
    "## My solution\n",
    "\n",
    ":::{admonition} Spoiler Alert!!\n",
    ":class: warning\n",
    "See my solution bellow\n",
    ":::"
   ]
  },
  {
   "cell_type": "code",
   "execution_count": 3,
   "metadata": {
    "tags": [
     "remove-output"
    ]
   },
   "outputs": [
    {
     "name": "stderr",
     "output_type": "stream",
     "text": [
      "test_result1 (__main__.UnitTests.test_result1) ... ok\n",
      "test_result2 (__main__.UnitTests.test_result2) ... ok\n",
      "test_type (__main__.UnitTests.test_type) ... ok\n",
      "\n",
      "----------------------------------------------------------------------\n",
      "Ran 3 tests in 0.060s\n",
      "\n",
      "OK\n"
     ]
    },
    {
     "data": {
      "text/plain": [
       "<unittest.main.TestProgram at 0x7fca2c4ef310>"
      ]
     },
     "execution_count": 3,
     "metadata": {},
     "output_type": "execute_result"
    }
   ],
   "source": [
    "# Note: this solution does not scale well! Keep N<=4\n",
    "def problem4(N):\n",
    "    palindromic = 0\n",
    "    for i in range(10**N-1, 10**(N-1)-1, -1):\n",
    "        for j in range(10**N-1, i-1, -1):\n",
    "            product = i*j\n",
    "            if str(product) == str(product)[::-1]:\n",
    "                if product > palindromic:\n",
    "                    palindromic = product\n",
    "                    break\n",
    "    return palindromic\n",
    "\n",
    "# Testing\n",
    "unittest.main(argv=[''], verbosity=2,exit=False)"
   ]
  },
  {
   "cell_type": "markdown",
   "metadata": {},
   "source": [
    "The largest palindrome made from the product of two 3-digit numbers is"
   ]
  },
  {
   "cell_type": "code",
   "execution_count": 4,
   "metadata": {},
   "outputs": [
    {
     "data": {
      "text/plain": [
       "906609"
      ]
     },
     "execution_count": 4,
     "metadata": {},
     "output_type": "execute_result"
    }
   ],
   "source": [
    "# Printing Project Euler Solution\n",
    "problem4(3)"
   ]
  }
 ],
 "metadata": {
  "kernelspec": {
   "display_name": "Python 3.11.3 ('grasi')",
   "language": "python",
   "name": "python3"
  },
  "language_info": {
   "codemirror_mode": {
    "name": "ipython",
    "version": 3
   },
   "file_extension": ".py",
   "mimetype": "text/x-python",
   "name": "python",
   "nbconvert_exporter": "python",
   "pygments_lexer": "ipython3",
   "version": "3.11.3"
  },
  "orig_nbformat": 4,
  "vscode": {
   "interpreter": {
    "hash": "fd9cff0ccad1a21f92cfc9f7e89f6d5789d853b25a73be61ccb36672be4262e1"
   }
  }
 },
 "nbformat": 4,
 "nbformat_minor": 2
}
