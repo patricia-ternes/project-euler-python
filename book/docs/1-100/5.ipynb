{
 "cells": [
  {
   "cell_type": "markdown",
   "metadata": {},
   "source": [
    "# 5: Smallest multiple\n",
    "\n",
    "2520 is the smallest number that can be divided by each of the numbers from 1 to 10 without any remainder.\n",
    "\n",
    "What is the smallest positive number that is evenly divisible by all of the numbers from 1 to 20?\n",
    "\n",
    "[Submit your answer](https://projecteuler.net/problem=5)"
   ]
  },
  {
   "cell_type": "code",
   "execution_count": 1,
   "metadata": {
    "tags": [
     "remove-cell"
    ]
   },
   "outputs": [],
   "source": [
    "# unit test example\n",
    "# it is a hidden cell\n",
    "import unittest\n",
    "\n",
    "class UnitTests(unittest.TestCase):\n",
    "\n",
    "    def test_type(self):\n",
    "        self.assertTrue(isinstance(problem5(1,10), int), \"The result should be an integer number\")\n",
    "    def test_result1(self):\n",
    "        self.assertEqual(problem5(1,10), 2520, \"The result should be 2520\")\n",
    "    def test_result2(self):\n",
    "        self.assertEqual(problem5(1,20), 232792560, \"The result should be 232792560\")"
   ]
  },
  {
   "cell_type": "markdown",
   "metadata": {},
   "source": [
    "## Your Solution\n",
    "\n",
    "Lunch this notebook and try to create your own solution!\n",
    "\n",
    "Tip: look for the launch button (🚀) in the top right corner!"
   ]
  },
  {
   "cell_type": "code",
   "execution_count": 2,
   "metadata": {
    "tags": [
     "remove-output"
    ]
   },
   "outputs": [
    {
     "name": "stderr",
     "output_type": "stream",
     "text": [
      "test_result1 (__main__.UnitTests.test_result1) ... ERROR\n",
      "test_result2 (__main__.UnitTests.test_result2) ... ERROR\n",
      "test_type (__main__.UnitTests.test_type) ... ERROR\n",
      "\n",
      "======================================================================\n",
      "ERROR: test_result1 (__main__.UnitTests.test_result1)\n",
      "----------------------------------------------------------------------\n",
      "Traceback (most recent call last):\n",
      "  File \"/tmp/ipykernel_213923/1830051475.py\", line 10, in test_result1\n",
      "    self.assertEqual(problem5(1,10), 2520, \"The result should be 2520\")\n",
      "                     ^^^^^^^^^^^^^^\n",
      "  File \"/tmp/ipykernel_213923/2608604927.py\", line 3, in problem5\n",
      "    return solution\n",
      "           ^^^^^^^^\n",
      "NameError: name 'solution' is not defined\n",
      "\n",
      "======================================================================\n",
      "ERROR: test_result2 (__main__.UnitTests.test_result2)\n",
      "----------------------------------------------------------------------\n",
      "Traceback (most recent call last):\n",
      "  File \"/tmp/ipykernel_213923/1830051475.py\", line 12, in test_result2\n",
      "    self.assertEqual(problem5(1,20), 232792560, \"The result should be 232792560\")\n",
      "                     ^^^^^^^^^^^^^^\n",
      "  File \"/tmp/ipykernel_213923/2608604927.py\", line 3, in problem5\n",
      "    return solution\n",
      "           ^^^^^^^^\n",
      "NameError: name 'solution' is not defined\n",
      "\n",
      "======================================================================\n",
      "ERROR: test_type (__main__.UnitTests.test_type)\n",
      "----------------------------------------------------------------------\n",
      "Traceback (most recent call last):\n",
      "  File \"/tmp/ipykernel_213923/1830051475.py\", line 8, in test_type\n",
      "    self.assertTrue(isinstance(problem5(1,10), int), \"The result should be an integer number\")\n",
      "                               ^^^^^^^^^^^^^^\n",
      "  File \"/tmp/ipykernel_213923/2608604927.py\", line 3, in problem5\n",
      "    return solution\n",
      "           ^^^^^^^^\n",
      "NameError: name 'solution' is not defined\n",
      "\n",
      "----------------------------------------------------------------------\n",
      "Ran 3 tests in 0.003s\n",
      "\n",
      "FAILED (errors=3)\n"
     ]
    },
    {
     "data": {
      "text/plain": [
       "<unittest.main.TestProgram at 0x7f73b3f2bad0>"
      ]
     },
     "execution_count": 2,
     "metadata": {},
     "output_type": "execute_result"
    }
   ],
   "source": [
    "def problem5(N, M): # numbers from N to M\n",
    "    # Try your solution here\n",
    "    return solution\n",
    "\n",
    "# Testing:\n",
    "unittest.main(argv=[''], verbosity=2,exit=False)\n",
    "\n",
    "# Printing Project Euler Solution\n",
    "# print(problem5(1,20))"
   ]
  },
  {
   "cell_type": "markdown",
   "metadata": {},
   "source": [
    "## My solution\n",
    "\n",
    ":::{admonition} Spoiler Alert!!\n",
    ":class: warning\n",
    "See my solution bellow\n",
    ":::"
   ]
  },
  {
   "cell_type": "markdown",
   "metadata": {},
   "source": [
    "2520 is the smallest number that can be divided by each of the numbers from 1 to 10 without any remainder.\n",
    "\n",
    "What is the smallest positive number that is evenly divisible by all of the numbers from 1 to 20?"
   ]
  },
  {
   "cell_type": "markdown",
   "metadata": {},
   "source": [
    "### Brute Force\n",
    "\n",
    "This took almost 10 minutes in my pc for N=1 and M=20. It is not a good solution.\n",
    "\n",
    "Can we do better?"
   ]
  },
  {
   "cell_type": "code",
   "execution_count": 3,
   "metadata": {
    "tags": [
     "remove-output"
    ]
   },
   "outputs": [],
   "source": [
    "def problem5(N,M):\n",
    "    divisors = np.arange(N,M+1)\n",
    "\n",
    "    i = M\n",
    "    while not all(i%divisors == 0):\n",
    "        i += 1\n",
    "    return(i)\n"
   ]
  },
  {
   "cell_type": "markdown",
   "metadata": {},
   "source": [
    "### Using prime factorization\n",
    "\n",
    "According [Wikepedia](https://en.wikipedia.org/wiki/Greatest_common_divisor), \n",
    "we can calulating the LCM using a prime factorization approach.\n",
    "\n",
    "Consider the example with numbers 48 and 180. The prime factorization is:\n",
    "\n",
    "- $48 = 2*2*2*2*3 = 2^4*3^1$\n",
    "- $180 = 2*2*3*3*5 = 2^2*3^2*5^1$\n",
    "\n",
    "The LCM is:\n",
    "\n",
    "$$LCM = 2^{max(4,2)}*3^{max(1,2)}*5^{max(0,1)}$$\n",
    "$$LCM = 2^{4}*3^{2}*5^{1)}$$\n",
    "$$LCM = 16*9*5$$\n",
    "$$LCM = 720$$\n",
    "\n",
    "So we can follow some steps:\n",
    "\n",
    "- find prime factors\n",
    "- find the maximum number of every prime factor\n",
    "- apply the prime^max rule to calculate LCM"
   ]
  },
  {
   "cell_type": "code",
   "execution_count": 4,
   "metadata": {
    "tags": [
     "remove-output"
    ]
   },
   "outputs": [
    {
     "name": "stderr",
     "output_type": "stream",
     "text": [
      "test_result1 (__main__.UnitTests.test_result1) ... ok\n",
      "test_result2 (__main__.UnitTests.test_result2) ... ok\n",
      "test_type (__main__.UnitTests.test_type) ... ok\n",
      "\n",
      "----------------------------------------------------------------------\n",
      "Ran 3 tests in 0.002s\n",
      "\n",
      "OK\n"
     ]
    },
    {
     "data": {
      "text/plain": [
       "<unittest.main.TestProgram at 0x7f73b0248ad0>"
      ]
     },
     "execution_count": 4,
     "metadata": {},
     "output_type": "execute_result"
    }
   ],
   "source": [
    "def get_factors(N):\n",
    "    factors=[]\n",
    "    i = 2 # first prime\n",
    "    while (N > 1.0): # test if the number was factored to 1\n",
    "        if N % i == 0: # check remainder\n",
    "            N /= i # update the value\n",
    "            factors.append(i)\n",
    "        else:\n",
    "            i += 1 # try a new divisor\n",
    "    return factors\n",
    "\n",
    "def problem5(N,M):\n",
    "    factors = [get_factors(i) for i in range(N, M)] # get list of factors for every input\n",
    "    primes = set(sum(factors, [])) # get unique primes\n",
    "\n",
    "    lcm = 1\n",
    "    for p in primes:\n",
    "        n = max(f.count(p) for f in factors) # get the maximum number of repetitions for every prime\n",
    "        lcm *= p**n\n",
    "    return lcm\n",
    "\n",
    "# Testing\n",
    "unittest.main(argv=[''], verbosity=2,exit=False)"
   ]
  },
  {
   "cell_type": "markdown",
   "metadata": {},
   "source": [
    "Add main question:"
   ]
  },
  {
   "cell_type": "code",
   "execution_count": 5,
   "metadata": {},
   "outputs": [
    {
     "data": {
      "text/plain": [
       "232792560"
      ]
     },
     "execution_count": 5,
     "metadata": {},
     "output_type": "execute_result"
    }
   ],
   "source": [
    "# Printing Project Euler Solution\n",
    "problem5(1,20)"
   ]
  }
 ],
 "metadata": {
  "kernelspec": {
   "display_name": "Python 3.11.3 ('grasi')",
   "language": "python",
   "name": "python3"
  },
  "language_info": {
   "codemirror_mode": {
    "name": "ipython",
    "version": 3
   },
   "file_extension": ".py",
   "mimetype": "text/x-python",
   "name": "python",
   "nbconvert_exporter": "python",
   "pygments_lexer": "ipython3",
   "version": "3.11.3"
  },
  "orig_nbformat": 4,
  "vscode": {
   "interpreter": {
    "hash": "fd9cff0ccad1a21f92cfc9f7e89f6d5789d853b25a73be61ccb36672be4262e1"
   }
  }
 },
 "nbformat": 4,
 "nbformat_minor": 2
}
