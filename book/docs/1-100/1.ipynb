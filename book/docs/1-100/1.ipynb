{
 "cells": [
  {
   "cell_type": "markdown",
   "metadata": {},
   "source": [
    "# 1: Multiples of 3 or 5\n",
    "\n",
    "If we list all the natural numbers below 10 that are multiples of 3 or 5, we get 3, 5, 6 and 9. The sum of these multiples is 23.\n",
    "Find the sum of all the multiples of 3 or 5 below 1000.\n",
    "\n",
    "[Submit your answer](https://projecteuler.net/problem=1)"
   ]
  },
  {
   "cell_type": "code",
   "execution_count": 37,
   "metadata": {
    "tags": [
     "remove-cell"
    ]
   },
   "outputs": [],
   "source": [
    "import unittest\n",
    "\n",
    "class UnitTests(unittest.TestCase):\n",
    "\n",
    "    def test_type(self):\n",
    "        self.assertTrue(isinstance(problem1(10), int), \"The result should be an integer number\")\n",
    "    def test_result1(self):\n",
    "        self.assertEqual(problem1(10), 23, \"The result should be 23\")\n",
    "    def test_result2(self):\n",
    "        self.assertEqual(problem1(100), 2318, \"The result should be 2319\")"
   ]
  },
  {
   "cell_type": "markdown",
   "metadata": {},
   "source": [
    "## Your Solution\n",
    "\n",
    "Lunch this notebook and try to create your own solution!\n",
    "\n",
    "Tip: look for the launch button (🚀) in the top right corner!"
   ]
  },
  {
   "cell_type": "code",
   "execution_count": 41,
   "metadata": {
    "tags": [
     "remove-output"
    ]
   },
   "outputs": [],
   "source": [
    "def problem1(N):\n",
    "    # Try your solution here\n",
    "    return solution\n",
    "\n",
    "# Testing:\n",
    "unittest.main(argv=[''], verbosity=2,exit=False)"
   ]
  },
  {
   "cell_type": "markdown",
   "metadata": {},
   "source": [
    "## My solution\n",
    "\n",
    ":::{admonition} Spoiler Alert!!\n",
    ":class: warning\n",
    "See my solution bellow\n",
    ":::"
   ]
  },
  {
   "cell_type": "code",
   "execution_count": 35,
   "metadata": {
    "tags": [
     "remove-output"
    ]
   },
   "outputs": [],
   "source": [
    "def problem1(N):\n",
    "    solution = 0\n",
    "    for i in range(N):\n",
    "        if i % 3 == 0 or i % 5 == 0:\n",
    "            solution += i\n",
    "    return solution\n",
    "\n",
    "unittest.main(argv=[''], verbosity=2,exit=False)"
   ]
  },
  {
   "cell_type": "markdown",
   "metadata": {},
   "source": [
    "The sum of all the multiples of 3 or 5 below 1000 is:"
   ]
  },
  {
   "cell_type": "code",
   "execution_count": 40,
   "metadata": {},
   "outputs": [
    {
     "data": {
      "text/plain": [
       "233168"
      ]
     },
     "execution_count": 40,
     "metadata": {},
     "output_type": "execute_result"
    }
   ],
   "source": [
    "problem1(1000)"
   ]
  }
 ],
 "metadata": {
  "kernelspec": {
   "display_name": "Python 3.11.3 ('grasi')",
   "language": "python",
   "name": "python3"
  },
  "language_info": {
   "codemirror_mode": {
    "name": "ipython",
    "version": 3
   },
   "file_extension": ".py",
   "mimetype": "text/x-python",
   "name": "python",
   "nbconvert_exporter": "python",
   "pygments_lexer": "ipython3",
   "version": "3.11.3"
  },
  "orig_nbformat": 4,
  "vscode": {
   "interpreter": {
    "hash": "fd9cff0ccad1a21f92cfc9f7e89f6d5789d853b25a73be61ccb36672be4262e1"
   }
  }
 },
 "nbformat": 4,
 "nbformat_minor": 2
}
