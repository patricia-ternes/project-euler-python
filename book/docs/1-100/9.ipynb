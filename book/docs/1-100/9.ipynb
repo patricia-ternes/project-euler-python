{
 "cells": [
  {
   "cell_type": "markdown",
   "metadata": {},
   "source": [
    "# 9: Special Pythagorean Triplet\n",
    "\n",
    "Description\n",
    "\n",
    "[Submit your answer](https://projecteuler.net/problem=XXX) <!-- Change XXX by the problem number -->"
   ]
  },
  {
   "cell_type": "code",
   "execution_count": 1,
   "metadata": {
    "tags": [
     "remove-cell"
    ]
   },
   "outputs": [],
   "source": [
    "# unit test example\n",
    "# it is a hidden cell\n",
    "import unittest\n",
    "\n",
    "class UnitTests(unittest.TestCase):\n",
    "\n",
    "    def test_type1(self):\n",
    "        self.assertTrue(isinstance(problem9(12), int), \"The result should be an integer number\")\n",
    "    def test_result1(self):\n",
    "        self.assertEqual(problem9(12), 60, \"The result should be 60\")\n",
    "    def test_result2(self):\n",
    "        self.assertEqual(problem9(1_000), 31875000, \"The result should be 31875000\")"
   ]
  },
  {
   "cell_type": "markdown",
   "metadata": {},
   "source": [
    "## Your Solution\n",
    "\n",
    "Lunch this notebook and try to create your own solution!\n",
    "\n",
    "Tip: look for the launch button (🚀) in the top right corner!"
   ]
  },
  {
   "cell_type": "code",
   "execution_count": 2,
   "metadata": {
    "tags": [
     "remove-output"
    ]
   },
   "outputs": [
    {
     "name": "stderr",
     "output_type": "stream",
     "text": [
      "test_result1 (__main__.UnitTests.test_result1) ... ERROR\n",
      "test_result2 (__main__.UnitTests.test_result2) ... ERROR\n",
      "test_type1 (__main__.UnitTests.test_type1) ... ERROR\n",
      "\n",
      "======================================================================\n",
      "ERROR: test_result1 (__main__.UnitTests.test_result1)\n",
      "----------------------------------------------------------------------\n",
      "Traceback (most recent call last):\n",
      "  File \"/tmp/ipykernel_45264/3724482814.py\", line 10, in test_result1\n",
      "    self.assertEqual(problem9(12), 60, \"The result should be 60\")\n",
      "                     ^^^^^^^^^^^^\n",
      "  File \"/tmp/ipykernel_45264/921608918.py\", line 3, in problem9\n",
      "    return solution\n",
      "           ^^^^^^^^\n",
      "NameError: name 'solution' is not defined\n",
      "\n",
      "======================================================================\n",
      "ERROR: test_result2 (__main__.UnitTests.test_result2)\n",
      "----------------------------------------------------------------------\n",
      "Traceback (most recent call last):\n",
      "  File \"/tmp/ipykernel_45264/3724482814.py\", line 12, in test_result2\n",
      "    self.assertEqual(problem9(1_000), 31875000, \"The result should be 31875000\")\n",
      "                     ^^^^^^^^^^^^^^^\n",
      "  File \"/tmp/ipykernel_45264/921608918.py\", line 3, in problem9\n",
      "    return solution\n",
      "           ^^^^^^^^\n",
      "NameError: name 'solution' is not defined\n",
      "\n",
      "======================================================================\n",
      "ERROR: test_type1 (__main__.UnitTests.test_type1)\n",
      "----------------------------------------------------------------------\n",
      "Traceback (most recent call last):\n",
      "  File \"/tmp/ipykernel_45264/3724482814.py\", line 8, in test_type1\n",
      "    self.assertTrue(isinstance(problem9(12), int), \"The result should be an integer number\")\n",
      "                               ^^^^^^^^^^^^\n",
      "  File \"/tmp/ipykernel_45264/921608918.py\", line 3, in problem9\n",
      "    return solution\n",
      "           ^^^^^^^^\n",
      "NameError: name 'solution' is not defined\n",
      "\n",
      "----------------------------------------------------------------------\n",
      "Ran 3 tests in 0.002s\n",
      "\n",
      "FAILED (errors=3)\n"
     ]
    },
    {
     "data": {
      "text/plain": [
       "<unittest.main.TestProgram at 0x7f356e7bc590>"
      ]
     },
     "execution_count": 2,
     "metadata": {},
     "output_type": "execute_result"
    }
   ],
   "source": [
    "def problem9(N):  # N = a + b + c\n",
    "    # Try your solution here\n",
    "    return solution\n",
    "\n",
    "# Testing:\n",
    "unittest.main(argv=[''], verbosity=2,exit=False)\n",
    "\n",
    "# Printing Project Euler Solution\n",
    "# print(problem9(1_000))"
   ]
  },
  {
   "cell_type": "markdown",
   "metadata": {},
   "source": [
    "## My solution\n",
    "\n",
    ":::{admonition} Spoiler Alert!!\n",
    ":class: warning\n",
    "See my solution bellow\n",
    ":::"
   ]
  },
  {
   "cell_type": "code",
   "execution_count": 3,
   "metadata": {
    "tags": [
     "remove-output"
    ]
   },
   "outputs": [
    {
     "name": "stderr",
     "output_type": "stream",
     "text": [
      "test_result1 (__main__.UnitTests.test_result1) ... ok\n",
      "test_result2 (__main__.UnitTests.test_result2) ... ok\n",
      "test_type1 (__main__.UnitTests.test_type1) ... ok\n",
      "\n",
      "----------------------------------------------------------------------\n",
      "Ran 3 tests in 0.013s\n",
      "\n",
      "OK\n"
     ]
    },
    {
     "data": {
      "text/plain": [
       "<unittest.main.TestProgram at 0x7f356c497fd0>"
      ]
     },
     "execution_count": 3,
     "metadata": {},
     "output_type": "execute_result"
    }
   ],
   "source": [
    "def problem9(N):  # N = a + b + c\n",
    "    \n",
    "    for a in range(1, N+1):\n",
    "        for b in range(a, N+1):\n",
    "            c = N - a - b\n",
    "\n",
    "            # Check if it is Pythagorean Triplet\n",
    "            if (a*a + b*b == c*c):\n",
    "                return a*b*c  \n",
    "    return None\n",
    "\n",
    "# Testing\n",
    "unittest.main(argv=[''], verbosity=2,exit=False)"
   ]
  },
  {
   "cell_type": "markdown",
   "metadata": {},
   "source": [
    "Add main question:"
   ]
  },
  {
   "cell_type": "code",
   "execution_count": 4,
   "metadata": {},
   "outputs": [
    {
     "name": "stdout",
     "output_type": "stream",
     "text": [
      "31875000\n"
     ]
    }
   ],
   "source": [
    "# Printing Project Euler Solution\n",
    "print(problem9(1_000))"
   ]
  }
 ],
 "metadata": {
  "kernelspec": {
   "display_name": "Python 3.11.3 ('grasi')",
   "language": "python",
   "name": "python3"
  },
  "language_info": {
   "codemirror_mode": {
    "name": "ipython",
    "version": 3
   },
   "file_extension": ".py",
   "mimetype": "text/x-python",
   "name": "python",
   "nbconvert_exporter": "python",
   "pygments_lexer": "ipython3",
   "version": "3.11.3"
  },
  "orig_nbformat": 4,
  "vscode": {
   "interpreter": {
    "hash": "fd9cff0ccad1a21f92cfc9f7e89f6d5789d853b25a73be61ccb36672be4262e1"
   }
  }
 },
 "nbformat": 4,
 "nbformat_minor": 2
}
